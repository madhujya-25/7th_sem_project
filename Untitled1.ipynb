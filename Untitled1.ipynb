{
 "cells": [
  {
   "cell_type": "code",
   "execution_count": 5,
   "metadata": {},
   "outputs": [],
   "source": [
    "import pandas as pd\n",
    "import numpy as np"
   ]
  },
  {
   "cell_type": "code",
   "execution_count": 6,
   "metadata": {},
   "outputs": [],
   "source": [
    "X_train = []\n",
    "y_train = []\n",
    "X_test = []\n",
    "y_test = []"
   ]
  },
  {
   "cell_type": "code",
   "execution_count": 7,
   "metadata": {},
   "outputs": [],
   "source": [
    "emotion_data = pd.read_csv('fer2013.csv')"
   ]
  },
  {
   "cell_type": "code",
   "execution_count": 8,
   "metadata": {},
   "outputs": [],
   "source": [
    "for index, row in emotion_data.iterrows():\n",
    "    k = row['pixels'].split(\" \")\n",
    "    if row['Usage'] == 'Training':\n",
    "        X_train.append(np.array(k))\n",
    "        y_train.append(row['emotion'])\n",
    "    elif row['Usage'] == 'PublicTest':\n",
    "        X_test.append(np.array(k))\n",
    "        y_test.append(row['emotion'])"
   ]
  },
  {
   "cell_type": "code",
   "execution_count": 9,
   "metadata": {},
   "outputs": [],
   "source": [
    "X_train = np.array(X_train)\n",
    "y_train = np.array(y_train)\n",
    "X_test = np.array(X_test)\n",
    "y_test = np.array(y_test)"
   ]
  },
  {
   "cell_type": "code",
   "execution_count": 10,
   "metadata": {
    "scrolled": true
   },
   "outputs": [],
   "source": [
    "X_train = X_train.reshape(X_train.shape[0], 48, 48, 1)\n",
    "X_test = X_test.reshape(X_test.shape[0], 48, 48, 1)"
   ]
  },
  {
   "cell_type": "code",
   "execution_count": 11,
   "metadata": {},
   "outputs": [],
   "source": [
    "from sklearn.preprocessing import OneHotEncoder\n",
    "onehot_encoder = OneHotEncoder(sparse=False)\n",
    "y_test = y_test.reshape(len(y_test), 1)\n",
    "y_test = onehot_encoder.fit_transform(y_test)"
   ]
  },
  {
   "cell_type": "code",
   "execution_count": 12,
   "metadata": {},
   "outputs": [
    {
     "name": "stdout",
     "output_type": "stream",
     "text": [
      "[0 0 2 ... 4 0 4]\n"
     ]
    }
   ],
   "source": [
    "print(y_train)"
   ]
  },
  {
   "cell_type": "code",
   "execution_count": 13,
   "metadata": {},
   "outputs": [],
   "source": [
    "y_train = y_train.reshape(len(y_train), 1)\n",
    "y_train = onehot_encoder.fit_transform(y_train)"
   ]
  },
  {
   "cell_type": "code",
   "execution_count": 14,
   "metadata": {},
   "outputs": [
    {
     "name": "stdout",
     "output_type": "stream",
     "text": [
      "[[1. 0. 0. ... 0. 0. 0.]\n",
      " [1. 0. 0. ... 0. 0. 0.]\n",
      " [0. 0. 1. ... 0. 0. 0.]\n",
      " ...\n",
      " [0. 0. 0. ... 1. 0. 0.]\n",
      " [1. 0. 0. ... 0. 0. 0.]\n",
      " [0. 0. 0. ... 1. 0. 0.]]\n"
     ]
    }
   ],
   "source": [
    "print(y_train)"
   ]
  },
  {
   "cell_type": "code",
   "execution_count": 15,
   "metadata": {},
   "outputs": [],
   "source": [
    "from keras.models import Sequential\n",
    "from keras.layers import Flatten\n",
    "from keras.layers import Dense\n",
    "from keras.layers import Dropout\n",
    "from keras.layers import Convolution2D\n",
    "from keras.layers import MaxPooling2D\n",
    "from keras.layers import ZeroPadding2D\n",
    "from keras.optimizers import SGD"
   ]
  },
  {
   "cell_type": "code",
   "execution_count": 16,
   "metadata": {},
   "outputs": [],
   "source": [
    "model = Sequential()\n",
    "model.add(Convolution2D(64,(3,3), input_shape = (48,48,1), activation='relu'))\n",
    "model.add(MaxPooling2D(pool_size=(2,2)))\n",
    "model.add(Convolution2D(128, (3,3), activation = 'relu'))\n",
    "model.add(MaxPooling2D(pool_size=(2,2)))\n",
    "model.add(Convolution2D(256, (3,3), activation = 'relu'))\n",
    "model.add(MaxPooling2D(pool_size=(2,2)))\n",
    "model.add(Flatten())"
   ]
  },
  {
   "cell_type": "code",
   "execution_count": 17,
   "metadata": {},
   "outputs": [],
   "source": [
    "model.add(Dense(units = 4096, activation = 'relu')) \n",
    "model.add(Dropout(0.5))\n",
    "model.add(Dense(units = 4096, activation = 'relu')) \n",
    "model.add(Dropout(0.5))\n",
    "model.add(Dense(7, activation='sigmoid'))"
   ]
  },
  {
   "cell_type": "code",
   "execution_count": 19,
   "metadata": {},
   "outputs": [],
   "source": [
    "model.compile(optimizer='adam',loss='categorical_crossentropy',metrics=['accuracy'])"
   ]
  },
  {
   "cell_type": "code",
   "execution_count": 18,
   "metadata": {},
   "outputs": [
    {
     "ename": "RuntimeError",
     "evalue": "You must compile a model before training/testing. Use `model.compile(optimizer, loss)`.",
     "output_type": "error",
     "traceback": [
      "\u001b[1;31m---------------------------------------------------------------------------\u001b[0m",
      "\u001b[1;31mRuntimeError\u001b[0m                              Traceback (most recent call last)",
      "\u001b[1;32m<ipython-input-18-e46dd19f778a>\u001b[0m in \u001b[0;36m<module>\u001b[1;34m\u001b[0m\n\u001b[1;32m----> 1\u001b[1;33m \u001b[0mmodel\u001b[0m\u001b[1;33m.\u001b[0m\u001b[0mfit\u001b[0m\u001b[1;33m(\u001b[0m\u001b[0mX_train\u001b[0m\u001b[1;33m,\u001b[0m\u001b[0my_train\u001b[0m\u001b[1;33m,\u001b[0m\u001b[0mbatch_size\u001b[0m\u001b[1;33m=\u001b[0m\u001b[1;36m32\u001b[0m\u001b[1;33m,\u001b[0m\u001b[0mepochs\u001b[0m\u001b[1;33m=\u001b[0m\u001b[1;36m20\u001b[0m\u001b[1;33m,\u001b[0m\u001b[0mverbose\u001b[0m\u001b[1;33m=\u001b[0m\u001b[1;36m1\u001b[0m\u001b[1;33m,\u001b[0m\u001b[0mvalidation_data\u001b[0m\u001b[1;33m=\u001b[0m\u001b[1;33m(\u001b[0m\u001b[0mX_test\u001b[0m\u001b[1;33m,\u001b[0m \u001b[0my_test\u001b[0m\u001b[1;33m)\u001b[0m\u001b[1;33m)\u001b[0m\u001b[1;33m\u001b[0m\u001b[1;33m\u001b[0m\u001b[0m\n\u001b[0m",
      "\u001b[1;32m~\\.conda\\envs\\group_project\\lib\\site-packages\\keras\\engine\\training.py\u001b[0m in \u001b[0;36mfit\u001b[1;34m(self, x, y, batch_size, epochs, verbose, callbacks, validation_split, validation_data, shuffle, class_weight, sample_weight, initial_epoch, steps_per_epoch, validation_steps, validation_freq, max_queue_size, workers, use_multiprocessing, **kwargs)\u001b[0m\n\u001b[0;32m   1152\u001b[0m             \u001b[0msample_weight\u001b[0m\u001b[1;33m=\u001b[0m\u001b[0msample_weight\u001b[0m\u001b[1;33m,\u001b[0m\u001b[1;33m\u001b[0m\u001b[1;33m\u001b[0m\u001b[0m\n\u001b[0;32m   1153\u001b[0m             \u001b[0mclass_weight\u001b[0m\u001b[1;33m=\u001b[0m\u001b[0mclass_weight\u001b[0m\u001b[1;33m,\u001b[0m\u001b[1;33m\u001b[0m\u001b[1;33m\u001b[0m\u001b[0m\n\u001b[1;32m-> 1154\u001b[1;33m             batch_size=batch_size)\n\u001b[0m\u001b[0;32m   1155\u001b[0m \u001b[1;33m\u001b[0m\u001b[0m\n\u001b[0;32m   1156\u001b[0m         \u001b[1;31m# Prepare validation data.\u001b[0m\u001b[1;33m\u001b[0m\u001b[1;33m\u001b[0m\u001b[1;33m\u001b[0m\u001b[0m\n",
      "\u001b[1;32m~\\.conda\\envs\\group_project\\lib\\site-packages\\keras\\engine\\training.py\u001b[0m in \u001b[0;36m_standardize_user_data\u001b[1;34m(self, x, y, sample_weight, class_weight, check_array_lengths, batch_size)\u001b[0m\n\u001b[0;32m    506\u001b[0m         \u001b[1;32mif\u001b[0m \u001b[0my\u001b[0m \u001b[1;32mis\u001b[0m \u001b[1;32mnot\u001b[0m \u001b[1;32mNone\u001b[0m\u001b[1;33m:\u001b[0m\u001b[1;33m\u001b[0m\u001b[1;33m\u001b[0m\u001b[0m\n\u001b[0;32m    507\u001b[0m             \u001b[1;32mif\u001b[0m \u001b[1;32mnot\u001b[0m \u001b[0mself\u001b[0m\u001b[1;33m.\u001b[0m\u001b[0moptimizer\u001b[0m\u001b[1;33m:\u001b[0m\u001b[1;33m\u001b[0m\u001b[1;33m\u001b[0m\u001b[0m\n\u001b[1;32m--> 508\u001b[1;33m                 raise RuntimeError('You must compile a model before '\n\u001b[0m\u001b[0;32m    509\u001b[0m                                    \u001b[1;34m'training/testing. '\u001b[0m\u001b[1;33m\u001b[0m\u001b[1;33m\u001b[0m\u001b[0m\n\u001b[0;32m    510\u001b[0m                                    'Use `model.compile(optimizer, loss)`.')\n",
      "\u001b[1;31mRuntimeError\u001b[0m: You must compile a model before training/testing. Use `model.compile(optimizer, loss)`."
     ]
    }
   ],
   "source": [
    "model.fit(X_train,y_train,batch_size=32,epochs=20,verbose=1,validation_data=(X_test, y_test))"
   ]
  },
  {
   "cell_type": "code",
   "execution_count": 20,
   "metadata": {},
   "outputs": [
    {
     "name": "stdout",
     "output_type": "stream",
     "text": [
      "3589/3589 [==============================] - 11s 3ms/step\n"
     ]
    }
   ],
   "source": [
    "loss_and_metrics = model.evaluate(X_test,y_test)"
   ]
  },
  {
   "cell_type": "code",
   "execution_count": 1,
   "metadata": {},
   "outputs": [
    {
     "ename": "NameError",
     "evalue": "name 'model' is not defined",
     "output_type": "error",
     "traceback": [
      "\u001b[1;31m---------------------------------------------------------------------------\u001b[0m",
      "\u001b[1;31mNameError\u001b[0m                                 Traceback (most recent call last)",
      "\u001b[1;32m<ipython-input-1-47901854e1b6>\u001b[0m in \u001b[0;36m<module>\u001b[1;34m\u001b[0m\n\u001b[1;32m----> 1\u001b[1;33m \u001b[0mmodel_json\u001b[0m \u001b[1;33m=\u001b[0m \u001b[0mmodel\u001b[0m\u001b[1;33m.\u001b[0m\u001b[0mto_json\u001b[0m\u001b[1;33m(\u001b[0m\u001b[1;33m)\u001b[0m\u001b[1;33m\u001b[0m\u001b[1;33m\u001b[0m\u001b[0m\n\u001b[0m\u001b[0;32m      2\u001b[0m \u001b[1;32mwith\u001b[0m \u001b[0mopen\u001b[0m\u001b[1;33m(\u001b[0m\u001b[1;34m\"model.json\"\u001b[0m\u001b[1;33m,\u001b[0m \u001b[1;34m\"w\"\u001b[0m\u001b[1;33m)\u001b[0m \u001b[1;32mas\u001b[0m \u001b[0mjson_file\u001b[0m\u001b[1;33m:\u001b[0m\u001b[1;33m\u001b[0m\u001b[1;33m\u001b[0m\u001b[0m\n\u001b[0;32m      3\u001b[0m     \u001b[0mjson_file\u001b[0m\u001b[1;33m.\u001b[0m\u001b[0mwrite\u001b[0m\u001b[1;33m(\u001b[0m\u001b[0mmodel_json\u001b[0m\u001b[1;33m)\u001b[0m\u001b[1;33m\u001b[0m\u001b[1;33m\u001b[0m\u001b[0m\n\u001b[0;32m      4\u001b[0m \u001b[0mmodel\u001b[0m\u001b[1;33m.\u001b[0m\u001b[0msave_weights\u001b[0m\u001b[1;33m(\u001b[0m\u001b[1;34m\"model.h5\"\u001b[0m\u001b[1;33m)\u001b[0m\u001b[1;33m\u001b[0m\u001b[1;33m\u001b[0m\u001b[0m\n\u001b[0;32m      5\u001b[0m \u001b[0mprint\u001b[0m\u001b[1;33m(\u001b[0m\u001b[1;34m\"Saved model to disk\"\u001b[0m\u001b[1;33m)\u001b[0m\u001b[1;33m\u001b[0m\u001b[1;33m\u001b[0m\u001b[0m\n",
      "\u001b[1;31mNameError\u001b[0m: name 'model' is not defined"
     ]
    }
   ],
   "source": [
    "model_json = model.to_json()\n",
    "with open(\"model.json\", \"w\") as json_file:\n",
    "    json_file.write(model_json)\n",
    "model.save_weights(\"model.h5\")\n",
    "print(\"Saved model to disk\")"
   ]
  },
  {
   "cell_type": "code",
   "execution_count": 21,
   "metadata": {},
   "outputs": [
    {
     "name": "stdout",
     "output_type": "stream",
     "text": [
      "['loss', 'accuracy']\n",
      "[4.2288878673496075, 0.18110893666744232]\n"
     ]
    }
   ],
   "source": [
    "print(model.metrics_names)\n",
    "print(loss_and_metrics)"
   ]
  },
  {
   "cell_type": "code",
   "execution_count": 1,
   "metadata": {},
   "outputs": [
    {
     "name": "stderr",
     "output_type": "stream",
     "text": [
      "Using TensorFlow backend.\n"
     ]
    }
   ],
   "source": [
    "from keras.models import model_from_json\n",
    "model = model_from_json(open(\"model.json\", \"r\").read())\n",
    "model.load_weights('model.h5')\n",
    "model.compile(optimizer='adam',loss='categorical_crossentropy',metrics=['accuracy'])"
   ]
  },
  {
   "cell_type": "code",
   "execution_count": 1,
   "metadata": {},
   "outputs": [
    {
     "name": "stderr",
     "output_type": "stream",
     "text": [
      "Using TensorFlow backend.\n"
     ]
    },
    {
     "name": "stdout",
     "output_type": "stream",
     "text": [
      "neutral\n",
      "angry\n",
      "fear\n",
      "sad\n",
      "sad\n",
      "angry\n",
      "fear\n",
      "sad\n",
      "fear\n",
      "sad\n",
      "angry\n",
      "fear\n",
      "sad\n",
      "happy\n",
      "neutral\n",
      "sad\n",
      "surprise\n",
      "surprise\n",
      "surprise\n",
      "sad\n",
      "sad\n",
      "sad\n",
      "sad\n",
      "sad\n",
      "happy\n",
      "happy\n",
      "fear\n",
      "neutral\n",
      "happy\n",
      "fear\n",
      "sad\n",
      "fear\n",
      "sad\n",
      "fear\n",
      "sad\n",
      "fear\n",
      "fear\n",
      "happy\n",
      "fear\n",
      "fear\n",
      "fear\n",
      "angry\n",
      "angry\n",
      "sad\n",
      "fear\n",
      "fear\n",
      "fear\n",
      "sad\n",
      "fear\n",
      "sad\n",
      "sad\n",
      "sad\n",
      "fear\n",
      "sad\n",
      "neutral\n",
      "fear\n",
      "sad\n",
      "sad\n",
      "fear\n",
      "sad\n",
      "sad\n",
      "fear\n",
      "fear\n",
      "surprise\n",
      "neutral\n",
      "fear\n",
      "sad\n",
      "sad\n",
      "sad\n",
      "sad\n",
      "sad\n",
      "happy\n",
      "surprise\n",
      "sad\n",
      "sad\n",
      "sad\n",
      "angry\n",
      "angry\n",
      "sad\n",
      "angry\n",
      "sad\n",
      "sad\n",
      "angry\n",
      "angry\n",
      "fear\n",
      "fear\n",
      "sad\n",
      "fear\n",
      "sad\n",
      "fear\n",
      "angry\n",
      "fear\n",
      "happy\n",
      "fear\n",
      "sad\n",
      "fear\n",
      "sad\n",
      "fear\n",
      "happy\n",
      "happy\n",
      "happy\n",
      "sad\n",
      "sad\n",
      "angry\n",
      "sad\n",
      "sad\n",
      "angry\n",
      "sad\n",
      "happy\n",
      "sad\n",
      "happy\n",
      "surprise\n",
      "surprise\n",
      "angry\n",
      "fear\n",
      "sad\n",
      "sad\n",
      "angry\n",
      "sad\n",
      "sad\n",
      "sad\n",
      "fear\n",
      "fear\n",
      "happy\n",
      "happy\n",
      "sad\n",
      "angry\n",
      "sad\n",
      "fear\n",
      "happy\n",
      "sad\n",
      "sad\n",
      "sad\n",
      "sad\n",
      "sad\n",
      "sad\n",
      "fear\n",
      "sad\n",
      "sad\n",
      "sad\n",
      "fear\n",
      "fear\n",
      "sad\n",
      "sad\n",
      "sad\n",
      "sad\n",
      "fear\n",
      "sad\n",
      "sad\n",
      "angry\n",
      "sad\n",
      "fear\n",
      "fear\n",
      "fear\n",
      "sad\n",
      "sad\n",
      "sad\n",
      "sad\n",
      "angry\n",
      "angry\n",
      "sad\n",
      "fear\n",
      "angry\n",
      "angry\n",
      "angry\n",
      "sad\n",
      "sad\n",
      "angry\n",
      "fear\n",
      "fear\n",
      "happy\n",
      "happy\n",
      "sad\n",
      "happy\n",
      "surprise\n",
      "angry\n",
      "neutral\n",
      "angry\n",
      "sad\n",
      "sad\n",
      "sad\n",
      "sad\n",
      "sad\n",
      "fear\n",
      "sad\n",
      "sad\n",
      "sad\n",
      "sad\n",
      "sad\n",
      "sad\n",
      "fear\n",
      "fear\n",
      "sad\n",
      "angry\n",
      "sad\n",
      "surprise\n",
      "angry\n",
      "happy\n",
      "angry\n",
      "sad\n",
      "angry\n",
      "surprise\n",
      "sad\n",
      "sad\n",
      "fear\n",
      "angry\n",
      "sad\n",
      "sad\n",
      "fear\n",
      "sad\n",
      "fear\n",
      "fear\n",
      "neutral\n",
      "happy\n",
      "sad\n",
      "sad\n",
      "sad\n",
      "sad\n",
      "fear\n",
      "angry\n",
      "angry\n",
      "happy\n",
      "fear\n",
      "fear\n",
      "surprise\n",
      "angry\n",
      "fear\n",
      "angry\n",
      "fear\n",
      "fear\n",
      "sad\n",
      "fear\n",
      "fear\n",
      "fear\n",
      "fear\n",
      "angry\n",
      "neutral\n",
      "angry\n",
      "neutral\n",
      "sad\n",
      "fear\n",
      "angry\n",
      "sad\n",
      "angry\n",
      "sad\n",
      "angry\n",
      "neutral\n",
      "fear\n",
      "fear\n",
      "fear\n",
      "fear\n",
      "sad\n",
      "angry\n",
      "sad\n",
      "sad\n",
      "sad\n",
      "fear\n",
      "sad\n",
      "angry\n",
      "sad\n",
      "sad\n",
      "sad\n",
      "sad\n",
      "sad\n",
      "sad\n",
      "sad\n",
      "surprise\n",
      "sad\n",
      "angry\n",
      "happy\n",
      "sad\n",
      "angry\n",
      "angry\n",
      "sad\n",
      "sad\n",
      "sad\n",
      "angry\n",
      "angry\n",
      "angry\n",
      "fear\n",
      "angry\n",
      "angry\n",
      "angry\n",
      "angry\n",
      "sad\n",
      "angry\n",
      "surprise\n",
      "happy\n",
      "happy\n",
      "happy\n",
      "happy\n",
      "surprise\n",
      "surprise\n",
      "fear\n",
      "sad\n",
      "neutral\n",
      "neutral\n",
      "sad\n",
      "sad\n",
      "sad\n",
      "happy\n",
      "fear\n",
      "fear\n",
      "surprise\n",
      "angry\n",
      "sad\n",
      "sad\n",
      "surprise\n",
      "sad\n"
     ]
    }
   ],
   "source": [
    "import os\n",
    "import cv2\n",
    "from PIL import Image\n",
    "from keras.models import model_from_json\n",
    "import keras.preprocessing.image\n",
    "import numpy as np\n",
    "\n",
    "model = model_from_json(open(\"model.json\", \"r\").read())\n",
    "model.load_weights('model.h5')\n",
    "\n",
    "\n",
    "cap = cv2.VideoCapture(0)\n",
    "classifier = cv2.CascadeClassifier('haarcascades/haarcascade_frontalface_default.xml')\n",
    "while True:\n",
    "    ret, frame = cap.read()\n",
    "    gray = cv2.cvtColor(frame, 0)\n",
    "    detections = classifier.detectMultiScale(gray, scaleFactor=1.3, minNeighbors=5)\n",
    "    \n",
    "    \n",
    "    for (x,y,w,h) in detections:\n",
    "        cv2.rectangle(frame, (x,y), (x+w,y+h), (255,0,0), 2)\n",
    "        roi_gray = frame[y:y+w,x:x+h]\n",
    "        roi_gray = roi_gray.reshape(-1,1)\n",
    "        roi_gray = cv2.resize(roi_gray,(48,48),1)\n",
    "        image_pixels = keras.preprocessing.image.img_to_array(roi_gray)\n",
    "        image_pixels = np.expand_dims(image_pixels, axis = 0)\n",
    "      ##  image_pixels /= 255\n",
    "      ##  \n",
    "        \n",
    "      ##  image_pixels = image_pixels.reshape(image_pixels.shape[0], 48, 48, 1)\n",
    "      ##  print(image_pixels.shape)\n",
    "        predictions = model.predict(image_pixels)\n",
    "      ##  print(predictions)\n",
    "        \n",
    "        emotion_detection = ('angry', 'disgust', 'fear', 'happy', 'sad', 'surprise', 'neutral')\n",
    "        max_index = np.argmax(predictions[0])\n",
    "        emotion_prediction = emotion_detection[max_index]\n",
    "        print(emotion_prediction)\n",
    "      ##  cv2.putText(frame, emotion_prediction, (int(x), int(y)))\n",
    "      ##  cv2.putText(frame,label,label_position,cv2.FONT_HERSHEY_SIMPLEX,2,(0,255,0),3)  \n",
    "\n",
    "      ##  resized_image = cv2.resize(frame, (1000, 700))\n",
    "        cv2.imshow('Emotion',frame)\n",
    "       \n",
    "    \n",
    "    \n",
    " ##   if(len(detections) > 0):\n",
    " ##       (x,y,w,h) = detections[0]\n",
    " ##       frame = cv2.rectangle(frame,(x,y), (x+w,y+h), (255,0,0), 2)\n",
    " ##       \n",
    " ##       roi_gray = frame[y:y+w,x:x+h]\n",
    " ##       roi_gray = cv2.resize(roi_gray,(48,48))\n",
    "      \n",
    "        \n",
    "    ##cv2.imshow('frame', frame)\n",
    "    if cv2.waitKey(100) & 0xFF == ord('q'):\n",
    "        break\n",
    "cap.release()\n",
    "cv2.destroyAllWindows()\n",
    "    "
   ]
  },
  {
   "cell_type": "code",
   "execution_count": null,
   "metadata": {},
   "outputs": [],
   "source": []
  },
  {
   "cell_type": "code",
   "execution_count": null,
   "metadata": {
    "scrolled": true
   },
   "outputs": [],
   "source": []
  },
  {
   "cell_type": "code",
   "execution_count": null,
   "metadata": {},
   "outputs": [],
   "source": []
  },
  {
   "cell_type": "code",
   "execution_count": null,
   "metadata": {},
   "outputs": [],
   "source": []
  },
  {
   "cell_type": "code",
   "execution_count": null,
   "metadata": {},
   "outputs": [],
   "source": []
  },
  {
   "cell_type": "code",
   "execution_count": null,
   "metadata": {},
   "outputs": [],
   "source": []
  },
  {
   "cell_type": "code",
   "execution_count": null,
   "metadata": {},
   "outputs": [],
   "source": []
  },
  {
   "cell_type": "code",
   "execution_count": null,
   "metadata": {},
   "outputs": [],
   "source": []
  },
  {
   "cell_type": "code",
   "execution_count": null,
   "metadata": {},
   "outputs": [],
   "source": []
  },
  {
   "cell_type": "code",
   "execution_count": null,
   "metadata": {},
   "outputs": [],
   "source": []
  },
  {
   "cell_type": "code",
   "execution_count": null,
   "metadata": {},
   "outputs": [],
   "source": []
  },
  {
   "cell_type": "code",
   "execution_count": null,
   "metadata": {},
   "outputs": [],
   "source": []
  }
 ],
 "metadata": {
  "kernelspec": {
   "display_name": "Python 3",
   "language": "python",
   "name": "python3"
  },
  "language_info": {
   "codemirror_mode": {
    "name": "ipython",
    "version": 3
   },
   "file_extension": ".py",
   "mimetype": "text/x-python",
   "name": "python",
   "nbconvert_exporter": "python",
   "pygments_lexer": "ipython3",
   "version": "3.7.9"
  }
 },
 "nbformat": 4,
 "nbformat_minor": 4
}
